{
 "cells": [
  {
   "cell_type": "markdown",
   "metadata": {},
   "source": [
    "# Variables"
   ]
  },
  {
   "cell_type": "markdown",
   "metadata": {},
   "source": [
    "## Binding & mutablity"
   ]
  },
  {
   "cell_type": "markdown",
   "metadata": {},
   "source": [
    "1. A variable can be used only if it has been initialized."
   ]
  },
  {
   "cell_type": "code",
   "execution_count": null,
   "metadata": {
    "vscode": {
     "languageId": "rust"
    }
   },
   "outputs": [],
   "source": [
    "// Fix the error below with least amount of modification to the code\n",
    "fn main() {\n",
    "    let x: i32; // Uninitialized but used, ERROR !\n",
    "    let y: i32; // Uninitialized but also unused, only a Warning !\n",
    "\n",
    "    assert_eq!(x, 5);\n",
    "    println!(\"Success!\");\n",
    "}"
   ]
  },
  {
   "cell_type": "markdown",
   "metadata": {},
   "source": [
    "2. Use mut to mark a variable as mutable."
   ]
  },
  {
   "cell_type": "code",
   "execution_count": null,
   "metadata": {
    "vscode": {
     "languageId": "rust"
    }
   },
   "outputs": [],
   "source": [
    "\n",
    "// Fill the blanks in the code to make it compile\n",
    "fn main() {\n",
    "    let __ __ = 1;\n",
    "    __ += 2; \n",
    "    \n",
    "    assert_eq!(x, 3);\n",
    "    println!(\"Success!\");\n",
    "}"
   ]
  },
  {
   "cell_type": "markdown",
   "metadata": {},
   "source": [
    "## Destructuring"
   ]
  },
  {
   "cell_type": "markdown",
   "metadata": {},
   "source": [
    "3. We can use a pattern with let to destructure a tuple to separate variables."
   ]
  },
  {
   "cell_type": "code",
   "execution_count": null,
   "metadata": {
    "vscode": {
     "languageId": "rust"
    }
   },
   "outputs": [],
   "source": [
    "// Fix the error below with least amount of modification\n",
    "fn main() {\n",
    "    let (x, y) = (1, 2);\n",
    "    x += 2;\n",
    "\n",
    "    assert_eq!(x, 3);\n",
    "    assert_eq!(y, 2);\n",
    "\n",
    "    println!(\"Success!\");\n",
    "}"
   ]
  },
  {
   "cell_type": "markdown",
   "metadata": {},
   "source": [
    "4. Use tuple, slice, and struct patterns as the left-hand side of an assignment."
   ]
  },
  {
   "cell_type": "code",
   "execution_count": null,
   "metadata": {
    "vscode": {
     "languageId": "rust"
    }
   },
   "outputs": [],
   "source": [
    "fn main() {\n",
    "    let (x, y);\n",
    "    (x,..) = (3, 4);\n",
    "    [.., y] = [1, 2];\n",
    "    // Fill the blank to make the code work\n",
    "    assert_eq!([x,y], __);\n",
    "\n",
    "    println!(\"Success!\");\n",
    "} "
   ]
  },
  {
   "cell_type": "markdown",
   "metadata": {},
   "source": [
    "# Basic Types"
   ]
  },
  {
   "cell_type": "markdown",
   "metadata": {},
   "source": [
    "1. Types are inferred by the compiler."
   ]
  },
  {
   "cell_type": "code",
   "execution_count": null,
   "metadata": {
    "vscode": {
     "languageId": "rust"
    }
   },
   "outputs": [],
   "source": [
    "// Remove something to make it work\n",
    "fn main() {\n",
    "    let x: i32 = 5;\n",
    "    let mut y: u32 = 5;\n",
    "\n",
    "    y = x;\n",
    "    \n",
    "    let z = 10; // Type of z ? \n",
    "\n",
    "    println!(\"Success!\");\n",
    "}"
   ]
  },
  {
   "cell_type": "code",
   "execution_count": null,
   "metadata": {
    "vscode": {
     "languageId": "rust"
    }
   },
   "outputs": [],
   "source": [
    "// Fill the blank\n",
    "fn main() {\n",
    "    let v: u16 = 38_u8 as __;\n",
    "\n",
    "    println!(\"Success!\");\n",
    "}"
   ]
  },
  {
   "cell_type": "code",
   "execution_count": null,
   "metadata": {
    "vscode": {
     "languageId": "rust"
    }
   },
   "outputs": [],
   "source": [
    "// Modify `assert_eq!` to make it work\n",
    "fn main() {\n",
    "    let x = 5;\n",
    "    assert_eq!(\"u32\".to_string(), type_of(&x));\n",
    "\n",
    "    println!(\"Success!\");\n",
    "}\n",
    "\n",
    "// Get the type of given variable, return a string representation of the type  , e.g \"i8\", \"u8\", \"i32\", \"u32\"\n",
    "fn type_of<T>(_: &T) -> String {\n",
    "    format!(\"{}\", std::any::type_name::<T>())\n",
    "}"
   ]
  },
  {
   "cell_type": "markdown",
   "metadata": {},
   "source": [
    "2. Type `char` represents a single Unicode scalar value."
   ]
  },
  {
   "cell_type": "code",
   "execution_count": null,
   "metadata": {
    "vscode": {
     "languageId": "rust"
    }
   },
   "outputs": [],
   "source": [
    "\n",
    "// Make it work\n",
    "use std::mem::size_of_val;\n",
    "fn main() {\n",
    "    let c1 = 'a';\n",
    "    assert_eq!(size_of_val(&c1),1); \n",
    "\n",
    "    let c2 = '中';\n",
    "    assert_eq!(size_of_val(&c2),3); \n",
    "\n",
    "    println!(\"Success!\");\n",
    "} "
   ]
  },
  {
   "cell_type": "markdown",
   "metadata": {},
   "source": [
    "3. Unit type `()` has only one value `()`."
   ]
  },
  {
   "cell_type": "code",
   "execution_count": null,
   "metadata": {
    "vscode": {
     "languageId": "rust"
    }
   },
   "outputs": [],
   "source": [
    "// Make it work, don't modify `implicitly_ret_unit` !\n",
    "fn main() {\n",
    "    let _v: () = ();\n",
    "\n",
    "    let v = (2, 3);\n",
    "    assert_eq!(v, implicitly_ret_unit());\n",
    "\n",
    "    println!(\"Success!\");\n",
    "}\n",
    "\n",
    "fn implicitly_ret_unit() {\n",
    "    println!(\"I will return a ()\");\n",
    "}\n",
    "\n",
    "// Don't use this one\n",
    "fn explicitly_ret_unit() -> () {\n",
    "    println!(\"I will return a ()\");\n",
    "}"
   ]
  },
  {
   "cell_type": "code",
   "execution_count": null,
   "metadata": {
    "vscode": {
     "languageId": "rust"
    }
   },
   "outputs": [],
   "source": [
    "// Modify `4` in assert to make it work\n",
    "use std::mem::size_of_val;\n",
    "\n",
    "fn main() {\n",
    "    let unit: () = ();\n",
    "    assert!(size_of_val(&unit) == 4);\n",
    "\n",
    "    println!(\"Success!\");\n",
    "}\n",
    "\n",
    "main();"
   ]
  },
  {
   "cell_type": "markdown",
   "metadata": {},
   "source": [
    "# Statements & Expressions"
   ]
  },
  {
   "cell_type": "code",
   "execution_count": null,
   "metadata": {
    "vscode": {
     "languageId": "rust"
    }
   },
   "outputs": [],
   "source": [
    "// Make it work with two ways\n",
    "fn main() {\n",
    "    let v = {\n",
    "        let mut x = 1;\n",
    "        x += 2\n",
    "    };\n",
    " \n",
    "    assert_eq!(v, 3);\n",
    " \n",
    "    println!(\"Success!\");\n",
    " }\n",
    "\n",
    " main();"
   ]
  },
  {
   "cell_type": "code",
   "execution_count": null,
   "metadata": {
    "vscode": {
     "languageId": "rust"
    }
   },
   "outputs": [],
   "source": [
    "fn main() {\n",
    "    let s = sum(1 , 2);\n",
    "    assert_eq!(s, 3);\n",
    "\n",
    "    println!(\"Success!\");\n",
    "}\n",
    "\n",
    "fn sum(x: i32, y: i32) -> i32 {\n",
    "    x + y;\n",
    "}\n",
    "\n",
    "main();"
   ]
  },
  {
   "cell_type": "markdown",
   "metadata": {},
   "source": [
    "# Functions"
   ]
  },
  {
   "cell_type": "code",
   "execution_count": null,
   "metadata": {
    "vscode": {
     "languageId": "rust"
    }
   },
   "outputs": [],
   "source": [
    "fn main() {\n",
    "    // Don't modify the following two lines!\n",
    "    let (x, y) = (1, 2);\n",
    "    let s = sum(x, y);\n",
    "\n",
    "    assert_eq!(s, 3);\n",
    "\n",
    "    println!(\"Success!\");\n",
    "}\n",
    "\n",
    "fn sum(x, y: i32) {\n",
    "    x + y;\n",
    "}"
   ]
  },
  {
   "cell_type": "code",
   "execution_count": null,
   "metadata": {
    "vscode": {
     "languageId": "rust"
    }
   },
   "outputs": [],
   "source": [
    "fn main() {\n",
    "    print();\n",
    " }\n",
    " \n",
    " // Replace i32 with another type\n",
    " fn print() -> i32 {\n",
    "    println!(\"Success!\");\n",
    " }\n",
    "\n",
    " main();"
   ]
  }
 ],
 "metadata": {
  "kernelspec": {
   "display_name": "Rust",
   "language": "rust",
   "name": "rust"
  },
  "language_info": {
   "codemirror_mode": "rust",
   "file_extension": ".rs",
   "mimetype": "text/rust",
   "name": "Rust",
   "pygment_lexer": "rust",
   "version": ""
  }
 },
 "nbformat": 4,
 "nbformat_minor": 2
}
